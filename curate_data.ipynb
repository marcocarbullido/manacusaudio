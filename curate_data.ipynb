{
  "cells": [
    {
      "cell_type": "code",
      "execution_count": null,
      "metadata": {
        "colab": {
          "base_uri": "https://localhost:8080/",
          "height": 106
        },
        "id": "4CQYNTiPzhju",
        "outputId": "022ce6d0-bd56-4634-cf40-5e778d3cd461"
      },
      "outputs": [
        {
          "output_type": "error",
          "ename": "SyntaxError",
          "evalue": "expected 'except' or 'finally' block (<ipython-input-1-426b748324b3>, line 121)",
          "traceback": [
            "\u001b[0;36m  File \u001b[0;32m\"<ipython-input-1-426b748324b3>\"\u001b[0;36m, line \u001b[0;32m121\u001b[0m\n\u001b[0;31m    return audio_clips_folder_path\u001b[0m\n\u001b[0m    ^\u001b[0m\n\u001b[0;31mSyntaxError\u001b[0m\u001b[0;31m:\u001b[0m expected 'except' or 'finally' block\n"
          ]
        }
      ],
      "source": [
        "#@title Get Loaded into the Pipeline\n",
        "try:\n",
        "    from boxsdk import OAuth2, Client\n",
        "except ImportError:\n",
        "    %pip install boxsdk --quiet\n",
        "    from boxsdk import OAuth2, Client\n",
        "import os, time, shutil\n",
        "from google.colab import drive\n",
        "import pandas as pd\n",
        "from moviepy.editor import VideoFileClip\n",
        "import matplotlib.pyplot as plt\n",
        "from IPython.display import clear_output, Audio, display\n",
        "class BoxNavigator():\n",
        "    def __init__(self) -> 'None':\n",
        "        drive.mount('/content/drive/', force_remount=True)\n",
        "        self.home_dir = '/content/drive/MyDrive/manacus_v1/'\n",
        "        system_files_dir = os.path.join(self.home_dir, 'system files')\n",
        "        if not os.path.exists(system_files_dir):\n",
        "            self.setup_credentials()\n",
        "        else:\n",
        "            self.load_credentials_from_file()\n",
        "\n",
        "        if not os.path.exists(self.home_dir):\n",
        "            os.makedirs(self.home_dir)\n",
        "            print(f\"New folder made: {self.home_dir}.\")\n",
        "\n",
        "    def load_credentials_from_file(self) -> 'None':\n",
        "        credentials_file_path = os.path.join(self.home_dir, 'system files', 'box_credentials.txt')\n",
        "        with open(credentials_file_path, 'r') as file:\n",
        "            lines = file.readlines()\n",
        "            self.client_id = lines[0].strip()\n",
        "            self.client_secret = lines[1].strip()\n",
        "            self.access_token = lines[2].strip()\n",
        "\n",
        "        self.auth = OAuth2(client_id=self.client_id, client_secret=self.client_secret, access_token=self.access_token)\n",
        "        self.client = Client(self.auth)\n",
        "\n",
        "    def setup_credentials(self) -> 'None':\n",
        "        print(\"Login to https://tulane.app.box.com/developers/console and paste the following:\")\n",
        "        self.client_id = input(\"Enter your Box Client ID: \")\n",
        "        self.client_secret = input(\"Enter your Box Client Secret: \")\n",
        "        self.access_token = input(\"Enter your Box Developer Token: \")\n",
        "        sys_files_path = os.path.join(self.home_dir, 'system files')\n",
        "        os.makedirs(sys_files_path)\n",
        "        os.mkdir(os.path.join(self.home_dir, 'Downloaded Videos'))\n",
        "        credentials_file_path = os.path.join(sys_files_path, 'box_credentials.txt')\n",
        "        with open(credentials_file_path, 'w') as file:\n",
        "            file.write(f\"{self.client_id}\\n{self.client_secret}\\n{self.access_token}\")\n",
        "\n",
        "        self.auth = OAuth2(client_id=self.client_id, client_secret=self.client_secret, access_token=self.access_token)\n",
        "        self.client = Client(self.auth)\n",
        "\n",
        "    def search(self, video_name: str):\n",
        "      try:\n",
        "        return next(iter(self.client.search().query(query=video_name, limit=1)))\n",
        "      except:\n",
        "        self.access_token = input(\"Enter your Box Developer Token: \")\n",
        "        sys_files_path = os.path.join(self.home_dir, 'system files')\n",
        "        credentials_file_path = os.path.join(sys_files_path, 'box_credentials.txt')\n",
        "        with open(credentials_file_path, 'w') as file:\n",
        "            file.write(f\"{self.client_id}\\n{self.client_secret}\\n{self.access_token}\")\n",
        "        self.auth = OAuth2(client_id=self.client_id, client_secret=self.client_secret, access_token=self.access_token)\n",
        "        self.client = Client(self.auth)\n",
        "        return self.search(video_name)\n",
        "\n",
        "    def download_vid(self, video_name: str) -> None:\n",
        "        assert os.path.exists(os.path.join(self.home_dir, 'Downloaded Videos'))\n",
        "        video_path = os.path.join(self.home_dir, 'Downloaded Videos', video_name)\n",
        "        if os.path.exists(video_path):\n",
        "            print(f\"Video '{video_name}' already exists in Drive.\")\n",
        "        else:\n",
        "            video_item_returned = self.search(video_name)\n",
        "            if video_item_returned.name == video_name and video_item_returned.type == 'file' and video_name.lower().endswith(\"mp4\"):\n",
        "                print(f\"Downloading video '{video_name}' to Drive: {video_path}...\")\n",
        "                with open(video_path, 'wb') as f:\n",
        "                    self.client.file(video_item_returned.id).download_to(f)\n",
        "                print(f\"    Successfully saved video '{video_name}' from Box in Drive.\")\n",
        "            else:\n",
        "                print(f\"    Video '{video_name}' not found in Box or is not an mp4 file.\")\n",
        "\n",
        "    def extract_audio_clips(self, video_name):\n",
        "        videos_folder_path = os.path.join(self.home_dir, 'Downloaded Videos')\n",
        "        video_path = os.path.join(videos_folder_path, video_name)\n",
        "        video_files = [f for f in [video_name] if os.path.isfile(video_path) and (f.lower().endswith(\".mp4\") or f.lower().endswith(\".avi\"))]\n",
        "\n",
        "        for video_file in video_files:\n",
        "            video_path = os.path.join(videos_folder_path, video_file)\n",
        "\n",
        "            try:\n",
        "                # Create directory for audio clips of this video\n",
        "                video_name_without_ext = os.path.splitext(video_file)[0]\n",
        "                audio_clips_folder_path = os.path.join(videos_folder_path, video_name_without_ext)\n",
        "\n",
        "                if not os.path.exists(audio_clips_folder_path):\n",
        "                    os.makedirs(audio_clips_folder_path)\n",
        "                    video_clip = VideoFileClip(video_path)\n",
        "                    audio_clip = video_clip.audio\n",
        "\n",
        "                    audio_clip_duration = int(audio_clip.duration)  # Duration in seconds\n",
        "\n",
        "                    i = 0\n",
        "                    while i < audio_clip_duration:\n",
        "                        start_time = i\n",
        "                        end_time = i + 0.5\n",
        "                        subclip = audio_clip.subclip(start_time, end_time)\n",
        "\n",
        "                        # Extract audio subclip and save\n",
        "                        clip_filename = f\"{video_name_without_ext}_{int(i*2):04d}.wav\"\n",
        "                        clip_filepath = os.path.join(audio_clips_folder_path, clip_filename)\n",
        "\n",
        "                        if not os.path.exists(clip_filepath):\n",
        "                            subclip.write_audiofile(clip_filepath, codec='pcm_s16le')\n",
        "                            print(f\"Saved clip: {clip_filename}\")\n",
        "\n",
        "                        i += 0.5\n",
        "\n",
        "                    video_clip.reader.close()\n",
        "                    audio_clip.reader.close_proc()\n",
        "            return audio_clips_folder_path\n",
        "\n",
        "            except IOError as e:\n",
        "                print(f\"An error occurred for {video_file}: {e}\")\n",
        "\n",
        "    def labelclips(self, video_name):\n",
        "        # Check if labels folders exist, if not, create them\n",
        "        labels_dir = os.path.join(self.home_dir, 'labels')\n",
        "        labels = ['s', 'g', 'c', 'c2', 'r', 'w', 'n', 'q']  # Define your labels here\n",
        "        label_dirs = [os.path.join(labels_dir, label) for label in labels]\n",
        "        for label_dir in label_dirs:\n",
        "            if not os.path.exists(label_dir):\n",
        "                os.makedirs(label_dir)\n",
        "\n",
        "        # Get the directory that contains the audio clips\n",
        "        audio_clips_dir = os.path.join(self.home_dir, 'Downloaded Videos', os.path.splitext(video_name)[0])\n",
        "        if os.path.exists(audio_clips_dir):\n",
        "            audio_clips = [clip for clip in os.listdir(audio_clips_dir) if clip.lower().endswith(\".wav\")]\n",
        "            n_clips = len(audio_clips)\n",
        "            for audio_clip in audio_clips:\n",
        "                n_clips-=1\n",
        "                clear_output()\n",
        "                # Play audio clip\n",
        "                clip_path = os.path.join(audio_clips_dir, audio_clip)\n",
        "                print(f\"Playing {audio_clip}\")\n",
        "                display(Audio(clip_path, autoplay=True))\n",
        "                #time.sleep(1)\n",
        "\n",
        "                # Ask for the user input for labeling\n",
        "                label = ''\n",
        "                print(f\"{n_clips} clips remaining.\")\n",
        "                while label not in labels:\n",
        "                    time.sleep(1)\n",
        "                    label = input(\"Enter label (s, g, c, c2, r, w, n, q):\\n\").lower().strip()\n",
        "                # Move the audio clip to the corresponding label directory\n",
        "                destination_path = os.path.join(labels_dir, label, audio_clip)\n",
        "                shutil.move(clip_path, destination_path)\n",
        "                print(f\"Moved {audio_clip} to {destination_path}\")\n",
        "        else:\n",
        "            print(f\"There are no audio clips extracted for the video {video_name}.\")\n",
        "\n",
        "nav = BoxNavigator()\n",
        "print('Please upload a spreadsheet to My Drive/manacus3/spreadsheets/')\n",
        "sheets_folder = '/content/drive/My Drive/manacus3/spreadsheets/'\n",
        "os.makedirs(sheets_folder, exist_ok=True)\n",
        "sheet_paths = os.listdir(sheets_folder)\n",
        "while len(sheet_paths) == 0:\n",
        "  drive.mount('/content/drive/', force_remount=True)\n",
        "  sheet_paths = os.listdir(sheets_folder)\n",
        "  clear_output()\n",
        "  time.sleep(2)\n",
        "  input('Have you uploaded a spreadsheet to My Drive/manacus3/spreadsheets/? (Y/N)')\n",
        "spreadsheet = pd.read_excel(os.path.join(sheets_folder, sheet_paths[0]))\n",
        "labeling_for = 'Calls'\n",
        "spreadsheet['Calls'] = pd.to_numeric(spreadsheet['Calls'], errors='coerce')\n",
        "spreadsheet = spreadsheet.dropna(subset=['Calls'])\n",
        "spreadsheet = spreadsheet.sort_values(by=labeling_for, ascending=False).reset_index(drop=True)\n",
        "print(f'Labeling for {labeling_for}')"
      ]
    },
    {
      "cell_type": "code",
      "source": [
        "from google.colab import drive\n",
        "drive.mount('/content/drive/')"
      ],
      "metadata": {
        "colab": {
          "base_uri": "https://localhost:8080/"
        },
        "id": "5BHUUAmsyQ5e",
        "outputId": "f486b005-5902-4a0f-efd5-c61df3b98c81"
      },
      "execution_count": null,
      "outputs": [
        {
          "output_type": "stream",
          "name": "stdout",
          "text": [
            "Mounted at /content/drive/\n"
          ]
        }
      ]
    },
    {
      "cell_type": "code",
      "source": [
        "import os\n",
        "import pandas as pd\n",
        "import json\n",
        "import matplotlib.pyplot as plt\n",
        "from IPython.display import Audio, display\n",
        "\n",
        "def string_to_dataframe(s):\n",
        "    try:\n",
        "        s = s.replace(\"'\", '\"')\n",
        "        data = json.loads(s)\n",
        "        df = pd.DataFrame(data)\n",
        "        return df\n",
        "    except json.JSONDecodeError as e:\n",
        "        print(f\"Error decoding JSON: {e}\")\n",
        "        return None\n",
        "    except Exception as e:\n",
        "        print(f\"An unexpected error occurred: {e}\")\n",
        "        return None\n",
        "\n",
        "# Load the CSV file\n",
        "not_present = pd.read_csv('/content/log (59).csv')\n",
        "i = 19\n",
        "video = not_present['predictions'].iloc[i]\n",
        "\n",
        "# Convert the 'predictions' string to a DataFrame\n",
        "video_df = string_to_dataframe(video)\n",
        "\n",
        "# Extract probabilities into a DataFrame\n",
        "probabilities_df = pd.DataFrame(video_df['predicted_probabilities'].tolist())\n",
        "\n",
        "# Extract predicted labels\n",
        "predicted_labels = video_df['predicted_label'].tolist()\n",
        "\n",
        "# Create a figure for plotting\n",
        "plt.figure(figsize=(10, 6))\n",
        "\n",
        "# Plot the probabilities for each class\n",
        "for class_index in probabilities_df.columns:\n",
        "    class_probabilities = probabilities_df[class_index]\n",
        "    if class_index == 2:\n",
        "      plt.plot(class_probabilities, label=f'Background')\n",
        "    elif class_index == 3:\n",
        "      plt.plot(class_probabilities, label=f'Grunt')\n",
        "    elif class_index == 4:\n",
        "      plt.plot(class_probabilities, label=f'Snaps')\n",
        "    else:\n",
        "      plt.plot(class_probabilities, label=f'Class {class_index}')\n",
        "\n",
        "# Set labels and title\n",
        "plt.xlabel('Clip Index')\n",
        "plt.ylabel('Probability')\n",
        "plt.title('Probabilities for Each Class')\n",
        "plt.legend()\n",
        "\n",
        "# Display the plot\n",
        "plt.show()\n",
        "\n",
        "print(not_present.iloc[i])"
      ],
      "metadata": {
        "id": "wwaX8J1-xHXF"
      },
      "execution_count": null,
      "outputs": []
    },
    {
      "cell_type": "code",
      "source": [
        "probabilities_df.columns.to_list()"
      ],
      "metadata": {
        "colab": {
          "base_uri": "https://localhost:8080/"
        },
        "id": "Q796stnLCj7E",
        "outputId": "242ed406-dbc3-4957-ff95-a9e29c6d82c0"
      },
      "execution_count": null,
      "outputs": [
        {
          "output_type": "execute_result",
          "data": {
            "text/plain": [
              "[0, 1, 2, 3, 4]"
            ]
          },
          "metadata": {},
          "execution_count": 22
        }
      ]
    },
    {
      "cell_type": "code",
      "source": [
        "predicted_label = video_df['audio_clip'].iloc[clip_i]\n"
      ],
      "metadata": {
        "id": "M0vjqyEUzh8B"
      },
      "execution_count": null,
      "outputs": []
    },
    {
      "cell_type": "code",
      "source": [
        "spreadsheet['Calls'].sum()"
      ],
      "metadata": {
        "colab": {
          "base_uri": "https://localhost:8080/"
        },
        "id": "Vs5xsDUMwpaN",
        "outputId": "e3f7e22c-e43f-4c9c-cb74-99be6a1609ce"
      },
      "execution_count": null,
      "outputs": [
        {
          "output_type": "execute_result",
          "data": {
            "text/plain": [
              "39.0"
            ]
          },
          "metadata": {},
          "execution_count": 2
        }
      ]
    },
    {
      "cell_type": "code",
      "execution_count": null,
      "metadata": {
        "colab": {
          "base_uri": "https://localhost:8080/",
          "height": 1000
        },
        "id": "xJSZuKy_4Df2",
        "outputId": "c5db2f0a-25e7-4338-91f2-404029e21246"
      },
      "outputs": [
        {
          "output_type": "stream",
          "name": "stdout",
          "text": [
            "{'L6.P2_7.12.22-8.3.22_0223', 'L6.P2_7.12.22-8.3.22_0179', 'L6.P2_10.18.22-11.03.22_0028', 'L6.P2_6.10.22-6.23.22_0014', 'L6.P2_10.18.22-11.03.22_0042', 'L6.P2_7.12.22-8.3.22_0061', 'L6.P2_7.12.22-8.3.22_0171', 'L6.P2_7.12.22-8.3.22_0180', 'L6.P2_10.18.22-11.03.22_0031', 'L6.P2_7.12.22-8.3.22_0059', 'L6.P2_6.10.22-6.23.22_0035', 'L6.P2_7.12.22-8.3.22_0191', 'L6.P2_7.12.22-8.3.22_0192'}\n",
            "13 videos have been anotated\n",
            "Mounted at /content/drive/\n"
          ]
        },
        {
          "output_type": "stream",
          "name": "stderr",
          "text": [
            "WARNING:boxsdk.network.default_network:\u001b[31m\"GET https://api.box.com/2.0/search?limit=1&query=L6.P2_6.10.22-6.23.22_0018.MP4&offset=0\" 401 0\n",
            "{'date': 'Tue, 06 Aug 2024 03:55:34 GMT', 'x-envoy-upstream-service-time': '17', 'strict-transport-security': 'max-age=31536000', 'www-authenticate': 'Bearer realm=\"Service\", error=\"invalid_token\", error_description=\"The access token provided is invalid.\"', 'box-request-id': '06e39014c19378f879b35fb1187929ced', 'via': '1.1 google', 'Content-Length': '0', 'Alt-Svc': 'h3=\":443\"; ma=2592000,h3-29=\":443\"; ma=2592000'}\n",
            "b''\n",
            "\u001b[0m\n",
            "WARNING:boxsdk.network.default_network:\u001b[31m\"POST https://api.box.com/oauth2/token\" 400 86\n",
            "{'date': 'Tue, 06 Aug 2024 03:55:34 GMT', 'content-type': 'application/json', 'strict-transport-security': 'max-age=31536000', 'set-cookie': 'box_visitor_id=66b19eb696bb51.01966349; expires=Wed, 06-Aug-2025 03:55:34 GMT; Max-Age=31536000; path=/; domain=.box.com; secure; SameSite=None, bv=EUG-7972; expires=Tue, 13-Aug-2024 03:55:34 GMT; Max-Age=604800; path=/; domain=.app.box.com; secure, cn=29; expires=Wed, 06-Aug-2025 03:55:34 GMT; Max-Age=31536000; path=/; domain=.app.box.com; secure, site_preference=desktop; path=/; domain=.box.com; secure', 'cache-control': 'no-store', 'via': '1.1 google', 'Alt-Svc': 'h3=\":443\"; ma=2592000,h3-29=\":443\"; ma=2592000', 'Transfer-Encoding': 'chunked'}\n",
            "{'error': 'invalid_request',\n",
            " 'error_description': 'No \"refresh_token\" parameter found'}\n",
            "\u001b[0m\n"
          ]
        },
        {
          "output_type": "stream",
          "name": "stdout",
          "text": [
            "Enter your Box Developer Token: L6ElCOJwWQOUHfBX3pQNXlNMvXuaPqtG\n",
            "Downloading video 'L6.P2_6.10.22-6.23.22_0018.MP4' to Drive: /content/drive/MyDrive/manacus_v1/Downloaded Videos/L6.P2_6.10.22-6.23.22_0018.MP4...\n",
            "    Successfully saved video 'L6.P2_6.10.22-6.23.22_0018.MP4' from Box in Drive.\n",
            "MoviePy - Writing audio in /content/drive/MyDrive/manacus_v1/Downloaded Videos/L6.P2_6.10.22-6.23.22_0018/L6.P2_6.10.22-6.23.22_0018_0000.wav\n"
          ]
        },
        {
          "output_type": "stream",
          "name": "stderr",
          "text": []
        },
        {
          "output_type": "stream",
          "name": "stdout",
          "text": [
            "MoviePy - Done.\n",
            "Saved clip: L6.P2_6.10.22-6.23.22_0018_0000.wav\n",
            "MoviePy - Writing audio in /content/drive/MyDrive/manacus_v1/Downloaded Videos/L6.P2_6.10.22-6.23.22_0018/L6.P2_6.10.22-6.23.22_0018_0001.wav\n"
          ]
        },
        {
          "output_type": "stream",
          "name": "stderr",
          "text": []
        },
        {
          "output_type": "stream",
          "name": "stdout",
          "text": [
            "MoviePy - Done.\n",
            "Saved clip: L6.P2_6.10.22-6.23.22_0018_0001.wav\n",
            "MoviePy - Writing audio in /content/drive/MyDrive/manacus_v1/Downloaded Videos/L6.P2_6.10.22-6.23.22_0018/L6.P2_6.10.22-6.23.22_0018_0002.wav\n"
          ]
        },
        {
          "output_type": "stream",
          "name": "stderr",
          "text": []
        },
        {
          "output_type": "stream",
          "name": "stdout",
          "text": [
            "MoviePy - Done.\n",
            "Saved clip: L6.P2_6.10.22-6.23.22_0018_0002.wav\n",
            "MoviePy - Writing audio in /content/drive/MyDrive/manacus_v1/Downloaded Videos/L6.P2_6.10.22-6.23.22_0018/L6.P2_6.10.22-6.23.22_0018_0003.wav\n"
          ]
        },
        {
          "output_type": "stream",
          "name": "stderr",
          "text": []
        },
        {
          "output_type": "stream",
          "name": "stdout",
          "text": [
            "MoviePy - Done.\n",
            "Saved clip: L6.P2_6.10.22-6.23.22_0018_0003.wav\n",
            "MoviePy - Writing audio in /content/drive/MyDrive/manacus_v1/Downloaded Videos/L6.P2_6.10.22-6.23.22_0018/L6.P2_6.10.22-6.23.22_0018_0004.wav\n"
          ]
        },
        {
          "output_type": "stream",
          "name": "stderr",
          "text": []
        },
        {
          "output_type": "stream",
          "name": "stdout",
          "text": [
            "MoviePy - Done.\n",
            "Saved clip: L6.P2_6.10.22-6.23.22_0018_0004.wav\n",
            "MoviePy - Writing audio in /content/drive/MyDrive/manacus_v1/Downloaded Videos/L6.P2_6.10.22-6.23.22_0018/L6.P2_6.10.22-6.23.22_0018_0005.wav\n"
          ]
        },
        {
          "output_type": "stream",
          "name": "stderr",
          "text": []
        },
        {
          "output_type": "stream",
          "name": "stdout",
          "text": [
            "MoviePy - Done.\n",
            "Saved clip: L6.P2_6.10.22-6.23.22_0018_0005.wav\n",
            "MoviePy - Writing audio in /content/drive/MyDrive/manacus_v1/Downloaded Videos/L6.P2_6.10.22-6.23.22_0018/L6.P2_6.10.22-6.23.22_0018_0006.wav\n"
          ]
        },
        {
          "output_type": "stream",
          "name": "stderr",
          "text": []
        },
        {
          "output_type": "stream",
          "name": "stdout",
          "text": [
            "MoviePy - Done.\n",
            "Saved clip: L6.P2_6.10.22-6.23.22_0018_0006.wav\n",
            "MoviePy - Writing audio in /content/drive/MyDrive/manacus_v1/Downloaded Videos/L6.P2_6.10.22-6.23.22_0018/L6.P2_6.10.22-6.23.22_0018_0007.wav\n"
          ]
        },
        {
          "output_type": "stream",
          "name": "stderr",
          "text": []
        },
        {
          "output_type": "stream",
          "name": "stdout",
          "text": [
            "MoviePy - Done.\n",
            "Saved clip: L6.P2_6.10.22-6.23.22_0018_0007.wav\n",
            "MoviePy - Writing audio in /content/drive/MyDrive/manacus_v1/Downloaded Videos/L6.P2_6.10.22-6.23.22_0018/L6.P2_6.10.22-6.23.22_0018_0008.wav\n"
          ]
        },
        {
          "output_type": "stream",
          "name": "stderr",
          "text": []
        },
        {
          "output_type": "stream",
          "name": "stdout",
          "text": [
            "MoviePy - Done.\n",
            "Saved clip: L6.P2_6.10.22-6.23.22_0018_0008.wav\n",
            "MoviePy - Writing audio in /content/drive/MyDrive/manacus_v1/Downloaded Videos/L6.P2_6.10.22-6.23.22_0018/L6.P2_6.10.22-6.23.22_0018_0009.wav\n"
          ]
        },
        {
          "output_type": "stream",
          "name": "stderr",
          "text": []
        },
        {
          "output_type": "stream",
          "name": "stdout",
          "text": [
            "MoviePy - Done.\n",
            "Saved clip: L6.P2_6.10.22-6.23.22_0018_0009.wav\n",
            "MoviePy - Writing audio in /content/drive/MyDrive/manacus_v1/Downloaded Videos/L6.P2_6.10.22-6.23.22_0018/L6.P2_6.10.22-6.23.22_0018_0010.wav\n"
          ]
        },
        {
          "output_type": "stream",
          "name": "stderr",
          "text": []
        },
        {
          "output_type": "stream",
          "name": "stdout",
          "text": [
            "MoviePy - Done.\n",
            "Saved clip: L6.P2_6.10.22-6.23.22_0018_0010.wav\n",
            "MoviePy - Writing audio in /content/drive/MyDrive/manacus_v1/Downloaded Videos/L6.P2_6.10.22-6.23.22_0018/L6.P2_6.10.22-6.23.22_0018_0011.wav\n"
          ]
        },
        {
          "output_type": "stream",
          "name": "stderr",
          "text": []
        },
        {
          "output_type": "stream",
          "name": "stdout",
          "text": [
            "MoviePy - Done.\n",
            "Saved clip: L6.P2_6.10.22-6.23.22_0018_0011.wav\n",
            "MoviePy - Writing audio in /content/drive/MyDrive/manacus_v1/Downloaded Videos/L6.P2_6.10.22-6.23.22_0018/L6.P2_6.10.22-6.23.22_0018_0012.wav\n"
          ]
        },
        {
          "output_type": "stream",
          "name": "stderr",
          "text": []
        },
        {
          "output_type": "stream",
          "name": "stdout",
          "text": [
            "MoviePy - Done.\n",
            "Saved clip: L6.P2_6.10.22-6.23.22_0018_0012.wav\n",
            "MoviePy - Writing audio in /content/drive/MyDrive/manacus_v1/Downloaded Videos/L6.P2_6.10.22-6.23.22_0018/L6.P2_6.10.22-6.23.22_0018_0013.wav\n"
          ]
        },
        {
          "output_type": "stream",
          "name": "stderr",
          "text": []
        },
        {
          "output_type": "stream",
          "name": "stdout",
          "text": [
            "MoviePy - Done.\n",
            "Saved clip: L6.P2_6.10.22-6.23.22_0018_0013.wav\n",
            "MoviePy - Writing audio in /content/drive/MyDrive/manacus_v1/Downloaded Videos/L6.P2_6.10.22-6.23.22_0018/L6.P2_6.10.22-6.23.22_0018_0014.wav\n"
          ]
        },
        {
          "output_type": "stream",
          "name": "stderr",
          "text": []
        },
        {
          "output_type": "stream",
          "name": "stdout",
          "text": [
            "MoviePy - Done.\n",
            "Saved clip: L6.P2_6.10.22-6.23.22_0018_0014.wav\n",
            "MoviePy - Writing audio in /content/drive/MyDrive/manacus_v1/Downloaded Videos/L6.P2_6.10.22-6.23.22_0018/L6.P2_6.10.22-6.23.22_0018_0015.wav\n"
          ]
        },
        {
          "output_type": "stream",
          "name": "stderr",
          "text": []
        },
        {
          "output_type": "stream",
          "name": "stdout",
          "text": [
            "MoviePy - Done.\n",
            "Saved clip: L6.P2_6.10.22-6.23.22_0018_0015.wav\n",
            "MoviePy - Writing audio in /content/drive/MyDrive/manacus_v1/Downloaded Videos/L6.P2_6.10.22-6.23.22_0018/L6.P2_6.10.22-6.23.22_0018_0016.wav\n"
          ]
        },
        {
          "output_type": "stream",
          "name": "stderr",
          "text": []
        },
        {
          "output_type": "stream",
          "name": "stdout",
          "text": [
            "MoviePy - Done.\n",
            "Saved clip: L6.P2_6.10.22-6.23.22_0018_0016.wav\n",
            "MoviePy - Writing audio in /content/drive/MyDrive/manacus_v1/Downloaded Videos/L6.P2_6.10.22-6.23.22_0018/L6.P2_6.10.22-6.23.22_0018_0017.wav\n"
          ]
        },
        {
          "output_type": "stream",
          "name": "stderr",
          "text": []
        },
        {
          "output_type": "stream",
          "name": "stdout",
          "text": [
            "MoviePy - Done.\n",
            "Saved clip: L6.P2_6.10.22-6.23.22_0018_0017.wav\n",
            "MoviePy - Writing audio in /content/drive/MyDrive/manacus_v1/Downloaded Videos/L6.P2_6.10.22-6.23.22_0018/L6.P2_6.10.22-6.23.22_0018_0018.wav\n"
          ]
        },
        {
          "output_type": "stream",
          "name": "stderr",
          "text": []
        },
        {
          "output_type": "stream",
          "name": "stdout",
          "text": [
            "MoviePy - Done.\n",
            "Saved clip: L6.P2_6.10.22-6.23.22_0018_0018.wav\n",
            "MoviePy - Writing audio in /content/drive/MyDrive/manacus_v1/Downloaded Videos/L6.P2_6.10.22-6.23.22_0018/L6.P2_6.10.22-6.23.22_0018_0019.wav\n"
          ]
        },
        {
          "output_type": "stream",
          "name": "stderr",
          "text": []
        },
        {
          "output_type": "stream",
          "name": "stdout",
          "text": [
            "MoviePy - Done.\n",
            "Saved clip: L6.P2_6.10.22-6.23.22_0018_0019.wav\n",
            "MoviePy - Writing audio in /content/drive/MyDrive/manacus_v1/Downloaded Videos/L6.P2_6.10.22-6.23.22_0018/L6.P2_6.10.22-6.23.22_0018_0020.wav\n"
          ]
        },
        {
          "output_type": "stream",
          "name": "stderr",
          "text": [
            "                                                       "
          ]
        },
        {
          "output_type": "stream",
          "name": "stdout",
          "text": [
            "MoviePy - Done.\n",
            "Saved clip: L6.P2_6.10.22-6.23.22_0018_0020.wav\n"
          ]
        },
        {
          "output_type": "stream",
          "name": "stderr",
          "text": [
            "\r"
          ]
        },
        {
          "output_type": "stream",
          "name": "stdout",
          "text": [
            "MoviePy - Writing audio in /content/drive/MyDrive/manacus_v1/Downloaded Videos/L6.P2_6.10.22-6.23.22_0018/L6.P2_6.10.22-6.23.22_0018_0021.wav\n"
          ]
        },
        {
          "output_type": "stream",
          "name": "stderr",
          "text": []
        },
        {
          "output_type": "stream",
          "name": "stdout",
          "text": [
            "MoviePy - Done.\n",
            "Saved clip: L6.P2_6.10.22-6.23.22_0018_0021.wav\n",
            "MoviePy - Writing audio in /content/drive/MyDrive/manacus_v1/Downloaded Videos/L6.P2_6.10.22-6.23.22_0018/L6.P2_6.10.22-6.23.22_0018_0022.wav\n"
          ]
        },
        {
          "output_type": "stream",
          "name": "stderr",
          "text": []
        },
        {
          "output_type": "stream",
          "name": "stdout",
          "text": [
            "MoviePy - Done.\n",
            "Saved clip: L6.P2_6.10.22-6.23.22_0018_0022.wav\n",
            "MoviePy - Writing audio in /content/drive/MyDrive/manacus_v1/Downloaded Videos/L6.P2_6.10.22-6.23.22_0018/L6.P2_6.10.22-6.23.22_0018_0023.wav\n"
          ]
        },
        {
          "output_type": "stream",
          "name": "stderr",
          "text": []
        },
        {
          "output_type": "stream",
          "name": "stdout",
          "text": [
            "MoviePy - Done.\n",
            "Saved clip: L6.P2_6.10.22-6.23.22_0018_0023.wav\n",
            "MoviePy - Writing audio in /content/drive/MyDrive/manacus_v1/Downloaded Videos/L6.P2_6.10.22-6.23.22_0018/L6.P2_6.10.22-6.23.22_0018_0024.wav\n"
          ]
        },
        {
          "output_type": "stream",
          "name": "stderr",
          "text": []
        },
        {
          "output_type": "stream",
          "name": "stdout",
          "text": [
            "MoviePy - Done.\n",
            "Saved clip: L6.P2_6.10.22-6.23.22_0018_0024.wav\n",
            "MoviePy - Writing audio in /content/drive/MyDrive/manacus_v1/Downloaded Videos/L6.P2_6.10.22-6.23.22_0018/L6.P2_6.10.22-6.23.22_0018_0025.wav\n"
          ]
        },
        {
          "output_type": "stream",
          "name": "stderr",
          "text": []
        },
        {
          "output_type": "stream",
          "name": "stdout",
          "text": [
            "MoviePy - Done.\n",
            "Saved clip: L6.P2_6.10.22-6.23.22_0018_0025.wav\n",
            "MoviePy - Writing audio in /content/drive/MyDrive/manacus_v1/Downloaded Videos/L6.P2_6.10.22-6.23.22_0018/L6.P2_6.10.22-6.23.22_0018_0026.wav\n"
          ]
        },
        {
          "output_type": "stream",
          "name": "stderr",
          "text": []
        },
        {
          "output_type": "stream",
          "name": "stdout",
          "text": [
            "MoviePy - Done.\n",
            "Saved clip: L6.P2_6.10.22-6.23.22_0018_0026.wav\n",
            "MoviePy - Writing audio in /content/drive/MyDrive/manacus_v1/Downloaded Videos/L6.P2_6.10.22-6.23.22_0018/L6.P2_6.10.22-6.23.22_0018_0027.wav\n"
          ]
        },
        {
          "output_type": "stream",
          "name": "stderr",
          "text": []
        },
        {
          "output_type": "stream",
          "name": "stdout",
          "text": [
            "MoviePy - Done.\n",
            "Saved clip: L6.P2_6.10.22-6.23.22_0018_0027.wav\n",
            "MoviePy - Writing audio in /content/drive/MyDrive/manacus_v1/Downloaded Videos/L6.P2_6.10.22-6.23.22_0018/L6.P2_6.10.22-6.23.22_0018_0028.wav\n"
          ]
        },
        {
          "output_type": "stream",
          "name": "stderr",
          "text": []
        },
        {
          "output_type": "stream",
          "name": "stdout",
          "text": [
            "MoviePy - Done.\n",
            "Saved clip: L6.P2_6.10.22-6.23.22_0018_0028.wav\n",
            "MoviePy - Writing audio in /content/drive/MyDrive/manacus_v1/Downloaded Videos/L6.P2_6.10.22-6.23.22_0018/L6.P2_6.10.22-6.23.22_0018_0029.wav\n"
          ]
        },
        {
          "output_type": "stream",
          "name": "stderr",
          "text": []
        },
        {
          "output_type": "stream",
          "name": "stdout",
          "text": [
            "MoviePy - Done.\n",
            "Saved clip: L6.P2_6.10.22-6.23.22_0018_0029.wav\n",
            "MoviePy - Writing audio in /content/drive/MyDrive/manacus_v1/Downloaded Videos/L6.P2_6.10.22-6.23.22_0018/L6.P2_6.10.22-6.23.22_0018_0030.wav\n"
          ]
        },
        {
          "output_type": "stream",
          "name": "stderr",
          "text": []
        },
        {
          "output_type": "stream",
          "name": "stdout",
          "text": [
            "MoviePy - Done.\n",
            "Saved clip: L6.P2_6.10.22-6.23.22_0018_0030.wav\n",
            "MoviePy - Writing audio in /content/drive/MyDrive/manacus_v1/Downloaded Videos/L6.P2_6.10.22-6.23.22_0018/L6.P2_6.10.22-6.23.22_0018_0031.wav\n"
          ]
        },
        {
          "output_type": "stream",
          "name": "stderr",
          "text": []
        },
        {
          "output_type": "stream",
          "name": "stdout",
          "text": [
            "MoviePy - Done.\n",
            "Saved clip: L6.P2_6.10.22-6.23.22_0018_0031.wav\n",
            "MoviePy - Writing audio in /content/drive/MyDrive/manacus_v1/Downloaded Videos/L6.P2_6.10.22-6.23.22_0018/L6.P2_6.10.22-6.23.22_0018_0032.wav\n"
          ]
        },
        {
          "output_type": "stream",
          "name": "stderr",
          "text": []
        },
        {
          "output_type": "stream",
          "name": "stdout",
          "text": [
            "MoviePy - Done.\n",
            "Saved clip: L6.P2_6.10.22-6.23.22_0018_0032.wav\n",
            "MoviePy - Writing audio in /content/drive/MyDrive/manacus_v1/Downloaded Videos/L6.P2_6.10.22-6.23.22_0018/L6.P2_6.10.22-6.23.22_0018_0033.wav\n"
          ]
        },
        {
          "output_type": "stream",
          "name": "stderr",
          "text": []
        },
        {
          "output_type": "stream",
          "name": "stdout",
          "text": [
            "MoviePy - Done.\n",
            "Saved clip: L6.P2_6.10.22-6.23.22_0018_0033.wav\n",
            "MoviePy - Writing audio in /content/drive/MyDrive/manacus_v1/Downloaded Videos/L6.P2_6.10.22-6.23.22_0018/L6.P2_6.10.22-6.23.22_0018_0034.wav\n"
          ]
        },
        {
          "output_type": "stream",
          "name": "stderr",
          "text": []
        },
        {
          "output_type": "stream",
          "name": "stdout",
          "text": [
            "MoviePy - Done.\n",
            "Saved clip: L6.P2_6.10.22-6.23.22_0018_0034.wav\n",
            "MoviePy - Writing audio in /content/drive/MyDrive/manacus_v1/Downloaded Videos/L6.P2_6.10.22-6.23.22_0018/L6.P2_6.10.22-6.23.22_0018_0035.wav\n"
          ]
        },
        {
          "output_type": "stream",
          "name": "stderr",
          "text": []
        },
        {
          "output_type": "stream",
          "name": "stdout",
          "text": [
            "MoviePy - Done.\n",
            "Saved clip: L6.P2_6.10.22-6.23.22_0018_0035.wav\n",
            "MoviePy - Writing audio in /content/drive/MyDrive/manacus_v1/Downloaded Videos/L6.P2_6.10.22-6.23.22_0018/L6.P2_6.10.22-6.23.22_0018_0036.wav\n"
          ]
        },
        {
          "output_type": "stream",
          "name": "stderr",
          "text": [
            "\rchunk:   0%|          | 0/12 [00:00<?, ?it/s, now=None]"
          ]
        },
        {
          "output_type": "error",
          "ename": "KeyboardInterrupt",
          "evalue": "",
          "traceback": [
            "\u001b[0;31m---------------------------------------------------------------------------\u001b[0m",
            "\u001b[0;31mKeyboardInterrupt\u001b[0m                         Traceback (most recent call last)",
            "\u001b[0;32m<ipython-input-136-135a75647e32>\u001b[0m in \u001b[0;36m<cell line: 17>\u001b[0;34m()\u001b[0m\n\u001b[1;32m     19\u001b[0m   \u001b[0;32mif\u001b[0m \u001b[0;34m\"P\"\u001b[0m \u001b[0;32min\u001b[0m \u001b[0mvideo_name\u001b[0m \u001b[0;32mand\u001b[0m \u001b[0;34m\"L\"\u001b[0m \u001b[0;32min\u001b[0m \u001b[0mvideo_name\u001b[0m \u001b[0;32mand\u001b[0m \u001b[0mvideo_name\u001b[0m\u001b[0;34m.\u001b[0m\u001b[0msplit\u001b[0m\u001b[0;34m(\u001b[0m\u001b[0;34m'.MP4'\u001b[0m\u001b[0;34m)\u001b[0m\u001b[0;34m[\u001b[0m\u001b[0;36m0\u001b[0m\u001b[0;34m]\u001b[0m \u001b[0;32mnot\u001b[0m \u001b[0;32min\u001b[0m \u001b[0mtotal\u001b[0m\u001b[0;34m:\u001b[0m\u001b[0;34m\u001b[0m\u001b[0;34m\u001b[0m\u001b[0m\n\u001b[1;32m     20\u001b[0m     \u001b[0mnav\u001b[0m\u001b[0;34m.\u001b[0m\u001b[0mdownload_vid\u001b[0m\u001b[0;34m(\u001b[0m\u001b[0mvideo_name\u001b[0m\u001b[0;34m)\u001b[0m\u001b[0;34m\u001b[0m\u001b[0;34m\u001b[0m\u001b[0m\n\u001b[0;32m---> 21\u001b[0;31m     \u001b[0mnav\u001b[0m\u001b[0;34m.\u001b[0m\u001b[0mextract_audio_clips\u001b[0m\u001b[0;34m(\u001b[0m\u001b[0mvideo_name\u001b[0m\u001b[0;34m)\u001b[0m\u001b[0;34m\u001b[0m\u001b[0;34m\u001b[0m\u001b[0m\n\u001b[0m\u001b[1;32m     22\u001b[0m     \u001b[0mnav\u001b[0m\u001b[0;34m.\u001b[0m\u001b[0mlabelclips\u001b[0m\u001b[0;34m(\u001b[0m\u001b[0mvideo_name\u001b[0m\u001b[0;34m)\u001b[0m\u001b[0;34m\u001b[0m\u001b[0;34m\u001b[0m\u001b[0m\n",
            "\u001b[0;32m<ipython-input-135-8db182f02769>\u001b[0m in \u001b[0;36mextract_audio_clips\u001b[0;34m(self, video_name)\u001b[0m\n\u001b[1;32m    112\u001b[0m \u001b[0;34m\u001b[0m\u001b[0m\n\u001b[1;32m    113\u001b[0m                         \u001b[0;32mif\u001b[0m \u001b[0;32mnot\u001b[0m \u001b[0mos\u001b[0m\u001b[0;34m.\u001b[0m\u001b[0mpath\u001b[0m\u001b[0;34m.\u001b[0m\u001b[0mexists\u001b[0m\u001b[0;34m(\u001b[0m\u001b[0mclip_filepath\u001b[0m\u001b[0;34m)\u001b[0m\u001b[0;34m:\u001b[0m\u001b[0;34m\u001b[0m\u001b[0;34m\u001b[0m\u001b[0m\n\u001b[0;32m--> 114\u001b[0;31m                             \u001b[0msubclip\u001b[0m\u001b[0;34m.\u001b[0m\u001b[0mwrite_audiofile\u001b[0m\u001b[0;34m(\u001b[0m\u001b[0mclip_filepath\u001b[0m\u001b[0;34m,\u001b[0m \u001b[0mcodec\u001b[0m\u001b[0;34m=\u001b[0m\u001b[0;34m'pcm_s16le'\u001b[0m\u001b[0;34m)\u001b[0m\u001b[0;34m\u001b[0m\u001b[0;34m\u001b[0m\u001b[0m\n\u001b[0m\u001b[1;32m    115\u001b[0m                             \u001b[0mprint\u001b[0m\u001b[0;34m(\u001b[0m\u001b[0;34mf\"Saved clip: {clip_filename}\"\u001b[0m\u001b[0;34m)\u001b[0m\u001b[0;34m\u001b[0m\u001b[0;34m\u001b[0m\u001b[0m\n\u001b[1;32m    116\u001b[0m \u001b[0;34m\u001b[0m\u001b[0m\n",
            "\u001b[0;32m<decorator-gen-200>\u001b[0m in \u001b[0;36mwrite_audiofile\u001b[0;34m(self, filename, fps, nbytes, buffersize, codec, bitrate, ffmpeg_params, write_logfile, verbose, logger)\u001b[0m\n",
            "\u001b[0;32m/usr/local/lib/python3.10/dist-packages/moviepy/decorators.py\u001b[0m in \u001b[0;36mrequires_duration\u001b[0;34m(f, clip, *a, **k)\u001b[0m\n\u001b[1;32m     52\u001b[0m         \u001b[0;32mraise\u001b[0m \u001b[0mValueError\u001b[0m\u001b[0;34m(\u001b[0m\u001b[0;34m\"Attribute 'duration' not set\"\u001b[0m\u001b[0;34m)\u001b[0m\u001b[0;34m\u001b[0m\u001b[0;34m\u001b[0m\u001b[0m\n\u001b[1;32m     53\u001b[0m     \u001b[0;32melse\u001b[0m\u001b[0;34m:\u001b[0m\u001b[0;34m\u001b[0m\u001b[0;34m\u001b[0m\u001b[0m\n\u001b[0;32m---> 54\u001b[0;31m         \u001b[0;32mreturn\u001b[0m \u001b[0mf\u001b[0m\u001b[0;34m(\u001b[0m\u001b[0mclip\u001b[0m\u001b[0;34m,\u001b[0m \u001b[0;34m*\u001b[0m\u001b[0ma\u001b[0m\u001b[0;34m,\u001b[0m \u001b[0;34m**\u001b[0m\u001b[0mk\u001b[0m\u001b[0;34m)\u001b[0m\u001b[0;34m\u001b[0m\u001b[0;34m\u001b[0m\u001b[0m\n\u001b[0m\u001b[1;32m     55\u001b[0m \u001b[0;34m\u001b[0m\u001b[0m\n\u001b[1;32m     56\u001b[0m \u001b[0;34m\u001b[0m\u001b[0m\n",
            "\u001b[0;32m/usr/local/lib/python3.10/dist-packages/moviepy/audio/AudioClip.py\u001b[0m in \u001b[0;36mwrite_audiofile\u001b[0;34m(self, filename, fps, nbytes, buffersize, codec, bitrate, ffmpeg_params, write_logfile, verbose, logger)\u001b[0m\n\u001b[1;32m    204\u001b[0m                                  \"parameter in write_audiofile.\")\n\u001b[1;32m    205\u001b[0m \u001b[0;34m\u001b[0m\u001b[0m\n\u001b[0;32m--> 206\u001b[0;31m         return ffmpeg_audiowrite(self, filename, fps, nbytes, buffersize,\n\u001b[0m\u001b[1;32m    207\u001b[0m                                  \u001b[0mcodec\u001b[0m\u001b[0;34m=\u001b[0m\u001b[0mcodec\u001b[0m\u001b[0;34m,\u001b[0m \u001b[0mbitrate\u001b[0m\u001b[0;34m=\u001b[0m\u001b[0mbitrate\u001b[0m\u001b[0;34m,\u001b[0m\u001b[0;34m\u001b[0m\u001b[0;34m\u001b[0m\u001b[0m\n\u001b[1;32m    208\u001b[0m                                  \u001b[0mwrite_logfile\u001b[0m\u001b[0;34m=\u001b[0m\u001b[0mwrite_logfile\u001b[0m\u001b[0;34m,\u001b[0m \u001b[0mverbose\u001b[0m\u001b[0;34m=\u001b[0m\u001b[0mverbose\u001b[0m\u001b[0;34m,\u001b[0m\u001b[0;34m\u001b[0m\u001b[0;34m\u001b[0m\u001b[0m\n",
            "\u001b[0;32m<decorator-gen-164>\u001b[0m in \u001b[0;36mffmpeg_audiowrite\u001b[0;34m(clip, filename, fps, nbytes, buffersize, codec, bitrate, write_logfile, verbose, ffmpeg_params, logger)\u001b[0m\n",
            "\u001b[0;32m/usr/local/lib/python3.10/dist-packages/moviepy/decorators.py\u001b[0m in \u001b[0;36mrequires_duration\u001b[0;34m(f, clip, *a, **k)\u001b[0m\n\u001b[1;32m     52\u001b[0m         \u001b[0;32mraise\u001b[0m \u001b[0mValueError\u001b[0m\u001b[0;34m(\u001b[0m\u001b[0;34m\"Attribute 'duration' not set\"\u001b[0m\u001b[0;34m)\u001b[0m\u001b[0;34m\u001b[0m\u001b[0;34m\u001b[0m\u001b[0m\n\u001b[1;32m     53\u001b[0m     \u001b[0;32melse\u001b[0m\u001b[0;34m:\u001b[0m\u001b[0;34m\u001b[0m\u001b[0;34m\u001b[0m\u001b[0m\n\u001b[0;32m---> 54\u001b[0;31m         \u001b[0;32mreturn\u001b[0m \u001b[0mf\u001b[0m\u001b[0;34m(\u001b[0m\u001b[0mclip\u001b[0m\u001b[0;34m,\u001b[0m \u001b[0;34m*\u001b[0m\u001b[0ma\u001b[0m\u001b[0;34m,\u001b[0m \u001b[0;34m**\u001b[0m\u001b[0mk\u001b[0m\u001b[0;34m)\u001b[0m\u001b[0;34m\u001b[0m\u001b[0;34m\u001b[0m\u001b[0m\n\u001b[0m\u001b[1;32m     55\u001b[0m \u001b[0;34m\u001b[0m\u001b[0m\n\u001b[1;32m     56\u001b[0m \u001b[0;34m\u001b[0m\u001b[0m\n",
            "\u001b[0;32m/usr/local/lib/python3.10/dist-packages/moviepy/audio/io/ffmpeg_audiowriter.py\u001b[0m in \u001b[0;36mffmpeg_audiowrite\u001b[0;34m(clip, filename, fps, nbytes, buffersize, codec, bitrate, write_logfile, verbose, ffmpeg_params, logger)\u001b[0m\n\u001b[1;32m    164\u001b[0m                                 ffmpeg_params=ffmpeg_params)\n\u001b[1;32m    165\u001b[0m \u001b[0;34m\u001b[0m\u001b[0m\n\u001b[0;32m--> 166\u001b[0;31m     for chunk in clip.iter_chunks(chunksize=buffersize,\n\u001b[0m\u001b[1;32m    167\u001b[0m                                   \u001b[0mquantize\u001b[0m\u001b[0;34m=\u001b[0m\u001b[0;32mTrue\u001b[0m\u001b[0;34m,\u001b[0m\u001b[0;34m\u001b[0m\u001b[0;34m\u001b[0m\u001b[0m\n\u001b[1;32m    168\u001b[0m                                   \u001b[0mnbytes\u001b[0m\u001b[0;34m=\u001b[0m\u001b[0mnbytes\u001b[0m\u001b[0;34m,\u001b[0m \u001b[0mfps\u001b[0m\u001b[0;34m=\u001b[0m\u001b[0mfps\u001b[0m\u001b[0;34m,\u001b[0m\u001b[0;34m\u001b[0m\u001b[0;34m\u001b[0m\u001b[0m\n",
            "\u001b[0;32m/usr/local/lib/python3.10/dist-packages/moviepy/audio/AudioClip.py\u001b[0m in \u001b[0;36miter_chunks\u001b[0;34m(self, chunksize, chunk_duration, fps, quantize, nbytes, logger)\u001b[0m\n\u001b[1;32m     79\u001b[0m         \u001b[0mpospos\u001b[0m \u001b[0;34m=\u001b[0m \u001b[0mnp\u001b[0m\u001b[0;34m.\u001b[0m\u001b[0mlinspace\u001b[0m\u001b[0;34m(\u001b[0m\u001b[0;36m0\u001b[0m\u001b[0;34m,\u001b[0m \u001b[0mtotalsize\u001b[0m\u001b[0;34m,\u001b[0m \u001b[0mnchunks\u001b[0m \u001b[0;34m+\u001b[0m \u001b[0;36m1\u001b[0m\u001b[0;34m,\u001b[0m \u001b[0mendpoint\u001b[0m\u001b[0;34m=\u001b[0m\u001b[0;32mTrue\u001b[0m\u001b[0;34m,\u001b[0m \u001b[0mdtype\u001b[0m\u001b[0;34m=\u001b[0m\u001b[0mint\u001b[0m\u001b[0;34m)\u001b[0m\u001b[0;34m\u001b[0m\u001b[0;34m\u001b[0m\u001b[0m\n\u001b[1;32m     80\u001b[0m \u001b[0;34m\u001b[0m\u001b[0m\n\u001b[0;32m---> 81\u001b[0;31m         \u001b[0;32mfor\u001b[0m \u001b[0mi\u001b[0m \u001b[0;32min\u001b[0m \u001b[0mlogger\u001b[0m\u001b[0;34m.\u001b[0m\u001b[0miter_bar\u001b[0m\u001b[0;34m(\u001b[0m\u001b[0mchunk\u001b[0m\u001b[0;34m=\u001b[0m\u001b[0mlist\u001b[0m\u001b[0;34m(\u001b[0m\u001b[0mrange\u001b[0m\u001b[0;34m(\u001b[0m\u001b[0mnchunks\u001b[0m\u001b[0;34m)\u001b[0m\u001b[0;34m)\u001b[0m\u001b[0;34m)\u001b[0m\u001b[0;34m:\u001b[0m\u001b[0;34m\u001b[0m\u001b[0;34m\u001b[0m\u001b[0m\n\u001b[0m\u001b[1;32m     82\u001b[0m             \u001b[0msize\u001b[0m \u001b[0;34m=\u001b[0m \u001b[0mpospos\u001b[0m\u001b[0;34m[\u001b[0m\u001b[0mi\u001b[0m\u001b[0;34m+\u001b[0m\u001b[0;36m1\u001b[0m\u001b[0;34m]\u001b[0m \u001b[0;34m-\u001b[0m \u001b[0mpospos\u001b[0m\u001b[0;34m[\u001b[0m\u001b[0mi\u001b[0m\u001b[0;34m]\u001b[0m\u001b[0;34m\u001b[0m\u001b[0;34m\u001b[0m\u001b[0m\n\u001b[1;32m     83\u001b[0m             \u001b[0;32massert\u001b[0m\u001b[0;34m(\u001b[0m\u001b[0msize\u001b[0m \u001b[0;34m<=\u001b[0m \u001b[0mchunksize\u001b[0m\u001b[0;34m)\u001b[0m\u001b[0;34m\u001b[0m\u001b[0;34m\u001b[0m\u001b[0m\n",
            "\u001b[0;32m/usr/local/lib/python3.10/dist-packages/proglog/proglog.py\u001b[0m in \u001b[0;36mnew_iterable\u001b[0;34m()\u001b[0m\n\u001b[1;32m    204\u001b[0m             \u001b[0;32mif\u001b[0m \u001b[0mself\u001b[0m\u001b[0;34m.\u001b[0m\u001b[0mbars\u001b[0m\u001b[0;34m[\u001b[0m\u001b[0mbar\u001b[0m\u001b[0;34m]\u001b[0m\u001b[0;34m[\u001b[0m\u001b[0;34m'index'\u001b[0m\u001b[0;34m]\u001b[0m \u001b[0;34m!=\u001b[0m \u001b[0mi\u001b[0m\u001b[0;34m:\u001b[0m\u001b[0;34m\u001b[0m\u001b[0;34m\u001b[0m\u001b[0m\n\u001b[1;32m    205\u001b[0m                 \u001b[0mself\u001b[0m\u001b[0;34m(\u001b[0m\u001b[0;34m**\u001b[0m\u001b[0;34m{\u001b[0m\u001b[0mbar\u001b[0m \u001b[0;34m+\u001b[0m \u001b[0;34m'__index'\u001b[0m\u001b[0;34m:\u001b[0m \u001b[0mi\u001b[0m\u001b[0;34m}\u001b[0m\u001b[0;34m)\u001b[0m\u001b[0;34m\u001b[0m\u001b[0;34m\u001b[0m\u001b[0m\n\u001b[0;32m--> 206\u001b[0;31m             \u001b[0mself\u001b[0m\u001b[0;34m(\u001b[0m\u001b[0;34m**\u001b[0m\u001b[0;34m{\u001b[0m\u001b[0mbar\u001b[0m \u001b[0;34m+\u001b[0m \u001b[0;34m'__index'\u001b[0m\u001b[0;34m:\u001b[0m \u001b[0mi\u001b[0m \u001b[0;34m+\u001b[0m \u001b[0;36m1\u001b[0m\u001b[0;34m}\u001b[0m\u001b[0;34m)\u001b[0m\u001b[0;34m\u001b[0m\u001b[0;34m\u001b[0m\u001b[0m\n\u001b[0m\u001b[1;32m    207\u001b[0m \u001b[0;34m\u001b[0m\u001b[0m\n\u001b[1;32m    208\u001b[0m         \u001b[0;32mreturn\u001b[0m \u001b[0mnew_iterable\u001b[0m\u001b[0;34m(\u001b[0m\u001b[0;34m)\u001b[0m\u001b[0;34m\u001b[0m\u001b[0;34m\u001b[0m\u001b[0m\n",
            "\u001b[0;32m/usr/local/lib/python3.10/dist-packages/proglog/proglog.py\u001b[0m in \u001b[0;36m__call__\u001b[0;34m(self, **kw)\u001b[0m\n\u001b[1;32m    253\u001b[0m                     \u001b[0mself\u001b[0m\u001b[0;34m.\u001b[0m\u001b[0mlog_indent\u001b[0m \u001b[0;34m+=\u001b[0m \u001b[0mself\u001b[0m\u001b[0;34m.\u001b[0m\u001b[0mbar_indent\u001b[0m\u001b[0;34m\u001b[0m\u001b[0;34m\u001b[0m\u001b[0m\n\u001b[1;32m    254\u001b[0m                 \u001b[0mself\u001b[0m\u001b[0;34m.\u001b[0m\u001b[0mbars\u001b[0m\u001b[0;34m[\u001b[0m\u001b[0mbar\u001b[0m\u001b[0;34m]\u001b[0m\u001b[0;34m[\u001b[0m\u001b[0mattr\u001b[0m\u001b[0;34m]\u001b[0m \u001b[0;34m=\u001b[0m \u001b[0mvalue\u001b[0m\u001b[0;34m\u001b[0m\u001b[0;34m\u001b[0m\u001b[0m\n\u001b[0;32m--> 255\u001b[0;31m                 \u001b[0mself\u001b[0m\u001b[0;34m.\u001b[0m\u001b[0mbars_callback\u001b[0m\u001b[0;34m(\u001b[0m\u001b[0mbar\u001b[0m\u001b[0;34m,\u001b[0m \u001b[0mattr\u001b[0m\u001b[0;34m,\u001b[0m \u001b[0mvalue\u001b[0m\u001b[0;34m,\u001b[0m \u001b[0mold_value\u001b[0m\u001b[0;34m)\u001b[0m\u001b[0;34m\u001b[0m\u001b[0;34m\u001b[0m\u001b[0m\n\u001b[0m\u001b[1;32m    256\u001b[0m         \u001b[0mself\u001b[0m\u001b[0;34m.\u001b[0m\u001b[0mstate\u001b[0m\u001b[0;34m.\u001b[0m\u001b[0mupdate\u001b[0m\u001b[0;34m(\u001b[0m\u001b[0mkw\u001b[0m\u001b[0;34m)\u001b[0m\u001b[0;34m\u001b[0m\u001b[0;34m\u001b[0m\u001b[0m\n\u001b[1;32m    257\u001b[0m         \u001b[0mself\u001b[0m\u001b[0;34m.\u001b[0m\u001b[0mcallback\u001b[0m\u001b[0;34m(\u001b[0m\u001b[0;34m**\u001b[0m\u001b[0mkw\u001b[0m\u001b[0;34m)\u001b[0m\u001b[0;34m\u001b[0m\u001b[0;34m\u001b[0m\u001b[0m\n",
            "\u001b[0;32m/usr/local/lib/python3.10/dist-packages/proglog/proglog.py\u001b[0m in \u001b[0;36mbars_callback\u001b[0;34m(self, bar, attr, value, old_value)\u001b[0m\n\u001b[1;32m    333\u001b[0m                 \u001b[0mtotal\u001b[0m \u001b[0;34m=\u001b[0m \u001b[0mself\u001b[0m\u001b[0;34m.\u001b[0m\u001b[0mbars\u001b[0m\u001b[0;34m[\u001b[0m\u001b[0mbar\u001b[0m\u001b[0;34m]\u001b[0m\u001b[0;34m[\u001b[0m\u001b[0;34m'total'\u001b[0m\u001b[0;34m]\u001b[0m\u001b[0;34m\u001b[0m\u001b[0;34m\u001b[0m\u001b[0m\n\u001b[1;32m    334\u001b[0m                 \u001b[0;32mif\u001b[0m \u001b[0mtotal\u001b[0m \u001b[0;32mand\u001b[0m \u001b[0;34m(\u001b[0m\u001b[0mvalue\u001b[0m \u001b[0;34m>=\u001b[0m \u001b[0mtotal\u001b[0m\u001b[0;34m)\u001b[0m\u001b[0;34m:\u001b[0m\u001b[0;34m\u001b[0m\u001b[0;34m\u001b[0m\u001b[0m\n\u001b[0;32m--> 335\u001b[0;31m                     \u001b[0mself\u001b[0m\u001b[0;34m.\u001b[0m\u001b[0mclose_tqdm_bar\u001b[0m\u001b[0;34m(\u001b[0m\u001b[0mbar\u001b[0m\u001b[0;34m)\u001b[0m\u001b[0;34m\u001b[0m\u001b[0;34m\u001b[0m\u001b[0m\n\u001b[0m\u001b[1;32m    336\u001b[0m                 \u001b[0;32melse\u001b[0m\u001b[0;34m:\u001b[0m\u001b[0;34m\u001b[0m\u001b[0;34m\u001b[0m\u001b[0m\n\u001b[1;32m    337\u001b[0m                     \u001b[0mself\u001b[0m\u001b[0;34m.\u001b[0m\u001b[0mtqdm_bars\u001b[0m\u001b[0;34m[\u001b[0m\u001b[0mbar\u001b[0m\u001b[0;34m]\u001b[0m\u001b[0;34m.\u001b[0m\u001b[0mupdate\u001b[0m\u001b[0;34m(\u001b[0m\u001b[0mvalue\u001b[0m \u001b[0;34m-\u001b[0m \u001b[0mold_value\u001b[0m\u001b[0;34m)\u001b[0m\u001b[0;34m\u001b[0m\u001b[0;34m\u001b[0m\u001b[0m\n",
            "\u001b[0;32m/usr/local/lib/python3.10/dist-packages/proglog/proglog.py\u001b[0m in \u001b[0;36mclose_tqdm_bar\u001b[0;34m(self, bar)\u001b[0m\n\u001b[1;32m    322\u001b[0m     \u001b[0;32mdef\u001b[0m \u001b[0mclose_tqdm_bar\u001b[0m\u001b[0;34m(\u001b[0m\u001b[0mself\u001b[0m\u001b[0;34m,\u001b[0m \u001b[0mbar\u001b[0m\u001b[0;34m)\u001b[0m\u001b[0;34m:\u001b[0m\u001b[0;34m\u001b[0m\u001b[0;34m\u001b[0m\u001b[0m\n\u001b[1;32m    323\u001b[0m         \u001b[0;34m\"\"\"Close and erase the tqdm bar\"\"\"\u001b[0m\u001b[0;34m\u001b[0m\u001b[0;34m\u001b[0m\u001b[0m\n\u001b[0;32m--> 324\u001b[0;31m         \u001b[0mself\u001b[0m\u001b[0;34m.\u001b[0m\u001b[0mtqdm_bars\u001b[0m\u001b[0;34m[\u001b[0m\u001b[0mbar\u001b[0m\u001b[0;34m]\u001b[0m\u001b[0;34m.\u001b[0m\u001b[0mclose\u001b[0m\u001b[0;34m(\u001b[0m\u001b[0;34m)\u001b[0m\u001b[0;34m\u001b[0m\u001b[0;34m\u001b[0m\u001b[0m\n\u001b[0m\u001b[1;32m    325\u001b[0m         \u001b[0;32mif\u001b[0m \u001b[0;32mnot\u001b[0m \u001b[0mself\u001b[0m\u001b[0;34m.\u001b[0m\u001b[0mnotebook\u001b[0m\u001b[0;34m:\u001b[0m\u001b[0;34m\u001b[0m\u001b[0;34m\u001b[0m\u001b[0m\n\u001b[1;32m    326\u001b[0m             \u001b[0mself\u001b[0m\u001b[0;34m.\u001b[0m\u001b[0mtqdm_bars\u001b[0m\u001b[0;34m[\u001b[0m\u001b[0mbar\u001b[0m\u001b[0;34m]\u001b[0m \u001b[0;34m=\u001b[0m \u001b[0;32mNone\u001b[0m\u001b[0;34m\u001b[0m\u001b[0;34m\u001b[0m\u001b[0m\n",
            "\u001b[0;32m/usr/local/lib/python3.10/dist-packages/tqdm/std.py\u001b[0m in \u001b[0;36mclose\u001b[0;34m(self)\u001b[0m\n\u001b[1;32m   1288\u001b[0m \u001b[0;34m\u001b[0m\u001b[0m\n\u001b[1;32m   1289\u001b[0m         \u001b[0;32mtry\u001b[0m\u001b[0;34m:\u001b[0m\u001b[0;34m\u001b[0m\u001b[0;34m\u001b[0m\u001b[0m\n\u001b[0;32m-> 1290\u001b[0;31m             \u001b[0mfp_write\u001b[0m\u001b[0;34m(\u001b[0m\u001b[0;34m''\u001b[0m\u001b[0;34m)\u001b[0m\u001b[0;34m\u001b[0m\u001b[0;34m\u001b[0m\u001b[0m\n\u001b[0m\u001b[1;32m   1291\u001b[0m         \u001b[0;32mexcept\u001b[0m \u001b[0mValueError\u001b[0m \u001b[0;32mas\u001b[0m \u001b[0me\u001b[0m\u001b[0;34m:\u001b[0m\u001b[0;34m\u001b[0m\u001b[0;34m\u001b[0m\u001b[0m\n\u001b[1;32m   1292\u001b[0m             \u001b[0;32mif\u001b[0m \u001b[0;34m'closed'\u001b[0m \u001b[0;32min\u001b[0m \u001b[0mstr\u001b[0m\u001b[0;34m(\u001b[0m\u001b[0me\u001b[0m\u001b[0;34m)\u001b[0m\u001b[0;34m:\u001b[0m\u001b[0;34m\u001b[0m\u001b[0;34m\u001b[0m\u001b[0m\n",
            "\u001b[0;32m/usr/local/lib/python3.10/dist-packages/tqdm/std.py\u001b[0m in \u001b[0;36mfp_write\u001b[0;34m(s)\u001b[0m\n\u001b[1;32m   1285\u001b[0m         \u001b[0;31m# annoyingly, _supports_unicode isn't good enough\u001b[0m\u001b[0;34m\u001b[0m\u001b[0;34m\u001b[0m\u001b[0m\n\u001b[1;32m   1286\u001b[0m         \u001b[0;32mdef\u001b[0m \u001b[0mfp_write\u001b[0m\u001b[0;34m(\u001b[0m\u001b[0ms\u001b[0m\u001b[0;34m)\u001b[0m\u001b[0;34m:\u001b[0m\u001b[0;34m\u001b[0m\u001b[0;34m\u001b[0m\u001b[0m\n\u001b[0;32m-> 1287\u001b[0;31m             \u001b[0mself\u001b[0m\u001b[0;34m.\u001b[0m\u001b[0mfp\u001b[0m\u001b[0;34m.\u001b[0m\u001b[0mwrite\u001b[0m\u001b[0;34m(\u001b[0m\u001b[0mstr\u001b[0m\u001b[0;34m(\u001b[0m\u001b[0ms\u001b[0m\u001b[0;34m)\u001b[0m\u001b[0;34m)\u001b[0m\u001b[0;34m\u001b[0m\u001b[0;34m\u001b[0m\u001b[0m\n\u001b[0m\u001b[1;32m   1288\u001b[0m \u001b[0;34m\u001b[0m\u001b[0m\n\u001b[1;32m   1289\u001b[0m         \u001b[0;32mtry\u001b[0m\u001b[0;34m:\u001b[0m\u001b[0;34m\u001b[0m\u001b[0;34m\u001b[0m\u001b[0m\n",
            "\u001b[0;32m/usr/local/lib/python3.10/dist-packages/tqdm/utils.py\u001b[0m in \u001b[0;36minner\u001b[0;34m(*args, **kwargs)\u001b[0m\n\u001b[1;32m    194\u001b[0m         \u001b[0;32mdef\u001b[0m \u001b[0minner\u001b[0m\u001b[0;34m(\u001b[0m\u001b[0;34m*\u001b[0m\u001b[0margs\u001b[0m\u001b[0;34m,\u001b[0m \u001b[0;34m**\u001b[0m\u001b[0mkwargs\u001b[0m\u001b[0;34m)\u001b[0m\u001b[0;34m:\u001b[0m\u001b[0;34m\u001b[0m\u001b[0;34m\u001b[0m\u001b[0m\n\u001b[1;32m    195\u001b[0m             \u001b[0;32mtry\u001b[0m\u001b[0;34m:\u001b[0m\u001b[0;34m\u001b[0m\u001b[0;34m\u001b[0m\u001b[0m\n\u001b[0;32m--> 196\u001b[0;31m                 \u001b[0;32mreturn\u001b[0m \u001b[0mfunc\u001b[0m\u001b[0;34m(\u001b[0m\u001b[0;34m*\u001b[0m\u001b[0margs\u001b[0m\u001b[0;34m,\u001b[0m \u001b[0;34m**\u001b[0m\u001b[0mkwargs\u001b[0m\u001b[0;34m)\u001b[0m\u001b[0;34m\u001b[0m\u001b[0;34m\u001b[0m\u001b[0m\n\u001b[0m\u001b[1;32m    197\u001b[0m             \u001b[0;32mexcept\u001b[0m \u001b[0mOSError\u001b[0m \u001b[0;32mas\u001b[0m \u001b[0me\u001b[0m\u001b[0;34m:\u001b[0m\u001b[0;34m\u001b[0m\u001b[0;34m\u001b[0m\u001b[0m\n\u001b[1;32m    198\u001b[0m                 \u001b[0;32mif\u001b[0m \u001b[0me\u001b[0m\u001b[0;34m.\u001b[0m\u001b[0merrno\u001b[0m \u001b[0;34m!=\u001b[0m \u001b[0;36m5\u001b[0m\u001b[0;34m:\u001b[0m\u001b[0;34m\u001b[0m\u001b[0;34m\u001b[0m\u001b[0m\n",
            "\u001b[0;32m/usr/local/lib/python3.10/dist-packages/ipykernel/iostream.py\u001b[0m in \u001b[0;36mwrite\u001b[0;34m(self, string)\u001b[0m\n\u001b[1;32m    400\u001b[0m             \u001b[0mis_child\u001b[0m \u001b[0;34m=\u001b[0m \u001b[0;34m(\u001b[0m\u001b[0;32mnot\u001b[0m \u001b[0mself\u001b[0m\u001b[0;34m.\u001b[0m\u001b[0m_is_master_process\u001b[0m\u001b[0;34m(\u001b[0m\u001b[0;34m)\u001b[0m\u001b[0;34m)\u001b[0m\u001b[0;34m\u001b[0m\u001b[0;34m\u001b[0m\u001b[0m\n\u001b[1;32m    401\u001b[0m             \u001b[0;31m# only touch the buffer in the IO thread to avoid races\u001b[0m\u001b[0;34m\u001b[0m\u001b[0;34m\u001b[0m\u001b[0m\n\u001b[0;32m--> 402\u001b[0;31m             \u001b[0mself\u001b[0m\u001b[0;34m.\u001b[0m\u001b[0mpub_thread\u001b[0m\u001b[0;34m.\u001b[0m\u001b[0mschedule\u001b[0m\u001b[0;34m(\u001b[0m\u001b[0;32mlambda\u001b[0m \u001b[0;34m:\u001b[0m \u001b[0mself\u001b[0m\u001b[0;34m.\u001b[0m\u001b[0m_buffer\u001b[0m\u001b[0;34m.\u001b[0m\u001b[0mwrite\u001b[0m\u001b[0;34m(\u001b[0m\u001b[0mstring\u001b[0m\u001b[0;34m)\u001b[0m\u001b[0;34m)\u001b[0m\u001b[0;34m\u001b[0m\u001b[0;34m\u001b[0m\u001b[0m\n\u001b[0m\u001b[1;32m    403\u001b[0m             \u001b[0;32mif\u001b[0m \u001b[0mis_child\u001b[0m\u001b[0;34m:\u001b[0m\u001b[0;34m\u001b[0m\u001b[0;34m\u001b[0m\u001b[0m\n\u001b[1;32m    404\u001b[0m                 \u001b[0;31m# mp.Pool cannot be trusted to flush promptly (or ever),\u001b[0m\u001b[0;34m\u001b[0m\u001b[0;34m\u001b[0m\u001b[0m\n",
            "\u001b[0;32m/usr/local/lib/python3.10/dist-packages/ipykernel/iostream.py\u001b[0m in \u001b[0;36mschedule\u001b[0;34m(self, f)\u001b[0m\n\u001b[1;32m    201\u001b[0m             \u001b[0mself\u001b[0m\u001b[0;34m.\u001b[0m\u001b[0m_events\u001b[0m\u001b[0;34m.\u001b[0m\u001b[0mappend\u001b[0m\u001b[0;34m(\u001b[0m\u001b[0mf\u001b[0m\u001b[0;34m)\u001b[0m\u001b[0;34m\u001b[0m\u001b[0;34m\u001b[0m\u001b[0m\n\u001b[1;32m    202\u001b[0m             \u001b[0;31m# wake event thread (message content is ignored)\u001b[0m\u001b[0;34m\u001b[0m\u001b[0;34m\u001b[0m\u001b[0m\n\u001b[0;32m--> 203\u001b[0;31m             \u001b[0mself\u001b[0m\u001b[0;34m.\u001b[0m\u001b[0m_event_pipe\u001b[0m\u001b[0;34m.\u001b[0m\u001b[0msend\u001b[0m\u001b[0;34m(\u001b[0m\u001b[0;34mb''\u001b[0m\u001b[0;34m)\u001b[0m\u001b[0;34m\u001b[0m\u001b[0;34m\u001b[0m\u001b[0m\n\u001b[0m\u001b[1;32m    204\u001b[0m         \u001b[0;32melse\u001b[0m\u001b[0;34m:\u001b[0m\u001b[0;34m\u001b[0m\u001b[0;34m\u001b[0m\u001b[0m\n\u001b[1;32m    205\u001b[0m             \u001b[0mf\u001b[0m\u001b[0;34m(\u001b[0m\u001b[0;34m)\u001b[0m\u001b[0;34m\u001b[0m\u001b[0;34m\u001b[0m\u001b[0m\n",
            "\u001b[0;32m/usr/local/lib/python3.10/dist-packages/zmq/sugar/socket.py\u001b[0m in \u001b[0;36msend\u001b[0;34m(self, data, flags, copy, track, routing_id, group)\u001b[0m\n\u001b[1;32m    618\u001b[0m                 )\n\u001b[1;32m    619\u001b[0m             \u001b[0mdata\u001b[0m\u001b[0;34m.\u001b[0m\u001b[0mgroup\u001b[0m \u001b[0;34m=\u001b[0m \u001b[0mgroup\u001b[0m\u001b[0;34m\u001b[0m\u001b[0;34m\u001b[0m\u001b[0m\n\u001b[0;32m--> 620\u001b[0;31m         \u001b[0;32mreturn\u001b[0m \u001b[0msuper\u001b[0m\u001b[0;34m(\u001b[0m\u001b[0;34m)\u001b[0m\u001b[0;34m.\u001b[0m\u001b[0msend\u001b[0m\u001b[0;34m(\u001b[0m\u001b[0mdata\u001b[0m\u001b[0;34m,\u001b[0m \u001b[0mflags\u001b[0m\u001b[0;34m=\u001b[0m\u001b[0mflags\u001b[0m\u001b[0;34m,\u001b[0m \u001b[0mcopy\u001b[0m\u001b[0;34m=\u001b[0m\u001b[0mcopy\u001b[0m\u001b[0;34m,\u001b[0m \u001b[0mtrack\u001b[0m\u001b[0;34m=\u001b[0m\u001b[0mtrack\u001b[0m\u001b[0;34m)\u001b[0m\u001b[0;34m\u001b[0m\u001b[0;34m\u001b[0m\u001b[0m\n\u001b[0m\u001b[1;32m    621\u001b[0m \u001b[0;34m\u001b[0m\u001b[0m\n\u001b[1;32m    622\u001b[0m     def send_multipart(\n",
            "\u001b[0;32mzmq/backend/cython/socket.pyx\u001b[0m in \u001b[0;36mzmq.backend.cython.socket.Socket.send\u001b[0;34m()\u001b[0m\n",
            "\u001b[0;32mzmq/backend/cython/socket.pyx\u001b[0m in \u001b[0;36mzmq.backend.cython.socket.Socket.send\u001b[0;34m()\u001b[0m\n",
            "\u001b[0;32mzmq/backend/cython/socket.pyx\u001b[0m in \u001b[0;36mzmq.backend.cython.socket._send_copy\u001b[0;34m()\u001b[0m\n",
            "\u001b[0;32m/usr/local/lib/python3.10/dist-packages/zmq/backend/cython/checkrc.pxd\u001b[0m in \u001b[0;36mzmq.backend.cython.checkrc._check_rc\u001b[0;34m()\u001b[0m\n",
            "\u001b[0;31mKeyboardInterrupt\u001b[0m: "
          ]
        }
      ],
      "source": [
        "#@title Label Videos\n",
        "\n",
        "labels_dir = '/content/drive/My Drive/manacus_v1/labels/'\n",
        "if not os.path.exists(labels_dir):\n",
        "  os.mkdir(labels_dir)\n",
        "labels = [os.path.join(labels_dir, f) for f in os.listdir(labels_dir)]\n",
        "total = []\n",
        "for f in labels:\n",
        "  for i in os.listdir(f):\n",
        "    total.append('_'.join(i.split('_')[:-1]))\n",
        "total = set(total)\n",
        "print(total)\n",
        "print(len(total), 'videos have been anotated')\n",
        "\n",
        "nav = BoxNavigator()\n",
        "\n",
        "for i in range(len(spreadsheet)):\n",
        "  video_name = spreadsheet.loc[i, 'FileName']\n",
        "  if \"P\" in video_name and \"L\" in video_name and video_name.split('.MP4')[0] not in total:\n",
        "    nav.download_vid(video_name)\n",
        "    nav.extract_audio_clips(video_name)\n",
        "    nav.labelclips(video_name)"
      ]
    }
  ],
  "metadata": {
    "colab": {
      "provenance": []
    },
    "kernelspec": {
      "display_name": "Python 3",
      "name": "python3"
    },
    "language_info": {
      "name": "python"
    }
  },
  "nbformat": 4,
  "nbformat_minor": 0
}
